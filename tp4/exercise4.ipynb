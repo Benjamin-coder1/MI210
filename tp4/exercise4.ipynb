{
 "cells": [
  {
   "cell_type": "markdown",
   "id": "1cc1bbba",
   "metadata": {},
   "source": [
    "# Exercise 4 Modeling efficient filters of an artifical system"
   ]
  },
  {
   "cell_type": "markdown",
   "id": "95ecc19c",
   "metadata": {},
   "source": [
    "**Objective:** The goal of this assignment is to build models of efficient code for it for an artificial visual system. The artificial visual system must be the same as exercise 3.\n",
    "\n",
    "**Components:** There are only coding and interpretation components for the statistics.\n",
    "\n",
    "**Code organization:** Several files are provided to you: exercise4.ipynb (the jupyter notebook); io_image_data.py; visual_system.py. \n",
    "In exercise4.ipynb you should write your written text answers, in this file you only need to change the exercise3_folder_path;  exercise4_folder_path. Depending on your data, you might need to change the values of noise_variance_list.\n",
    "The remaining code should be written in the file visual_system.py.\n",
    "To run this code you need to install a new package, scikit-learn, documentation at https://scikit-learn.org/stable/. For ubuntu users you just have to type in your terminal: pip3 install -U scikit-learn. The others must search on the installation page:\n",
    "https://scikit-learn.org/stable/install.html\n",
    "\n",
    "**Submission:** Please name your file MI210_ExerciseX_GroupY.zip, where X is the number of the exercise and Y is your group number. The submission deadline is May 4, please try to submit on the moodle. The fifth class will be held on zoom just to answer questions. Please use the forum created for this exercise."
   ]
  },
  {
   "cell_type": "code",
   "execution_count": null,
   "id": "7a6152d7",
   "metadata": {},
   "outputs": [],
   "source": [
    "# load packages\n",
    "%load_ext autoreload\n",
    "#this is to update your packages automatically\n",
    "%autoreload 2\n",
    "# more info https://ipython.readthedocs.io/en/stable/config/extensions/autoreload.html#autoreload\n",
    "import numpy as np\n",
    "import matplotlib.pyplot as plt\n",
    "%matplotlib inline\n",
    "exercise3_folder_path = '../tp_3/students_version/'  # This string must end with a slash ('/') \n",
    "import sys\n",
    "sys.path.append(exercise3_folder_path) \n",
    "import io_image_data\n",
    "#import image_data_analysis_full\n",
    "import visual_system"
   ]
  },
  {
   "cell_type": "code",
   "execution_count": null,
   "id": "51b8b097",
   "metadata": {},
   "outputs": [],
   "source": [
    "exercise4_folder_path = ''  # This string must end with a slash ('/') \n",
    "dataset_type = '' #please choose the one asigned to your group. Possible datasets = {airport_robot, autonomous_vehicle,domestic_robot, submarine_robot}\n",
    "dataset_file_name = exercise3_folder_path+dataset_type+'.hdf5'"
   ]
  },
  {
   "cell_type": "code",
   "execution_count": null,
   "id": "042e9464",
   "metadata": {},
   "outputs": [],
   "source": [
    "#defining output file names \n",
    "average_PS_results_file_name = exercise3_folder_path + \"average_PS.hdf5\" \n",
    "whitening_filters_results_file_name = exercise4_folder_path + \"whitening_filters.hdf5\"\n",
    "independent_components_results_file_name = exercise4_folder_path + \"independent_components.hdf5\""
   ]
  },
  {
   "cell_type": "code",
   "execution_count": null,
   "id": "146b7128",
   "metadata": {},
   "outputs": [],
   "source": [
    "# Usually you do not need to change this parameters. \n",
    "sample_size = [12,12] #image sample size for the power spectrum\n",
    "number_of_samples = int(5e4); #number of samples from the dataset for estimating ICAs"
   ]
  },
  {
   "cell_type": "markdown",
   "id": "c9af0f09",
   "metadata": {},
   "source": [
    "**Question 1** \n",
    "In visual_system.py write a function that estimates the power spectrum whitening filters of your visual\n",
    "system for various levels of noise. (hint1: in the slides of the class there is the equation. Hint 2: If you used NumPy.fft.fftshift to visualize and save the average power spectrum do not forget to use NumPy.fft.ifftshift\n",
    "before and after the use of the (inverse) Fourier transform. hint 3: By default, the result\n",
    "of NumPy.fft.ifft2 is a NumPy array of complex values. In our case, the imaginary part\n",
    "of the filter is zero. Convert the array of complex to an array of doubles using\n",
    "NumPy.real)."
   ]
  },
  {
   "cell_type": "code",
   "execution_count": null,
   "id": "0e68fb04",
   "metadata": {},
   "outputs": [],
   "source": [
    "average_PS = io_image_data.readH5(average_PS_results_file_name, 'average_PS')"
   ]
  },
  {
   "cell_type": "code",
   "execution_count": null,
   "id": "15676181",
   "metadata": {},
   "outputs": [],
   "source": [
    "noise_variance_list = [10**(-i) for i in range(5)] #if you do not see anything interesting you can change these values"
   ]
  },
  {
   "cell_type": "code",
   "execution_count": null,
   "id": "92f848f8",
   "metadata": {},
   "outputs": [],
   "source": [
    "whitening_filters = [];\n",
    "for noise_variance in noise_variance_list:\n",
    "    whitening_filters.append(visual_system.get_power_spectrum_whitening_filter(average_PS,noise_variance))\n",
    "\n",
    "io_image_data.saveH5(whitening_filters_results_file_name,'whitening_filters',np.array(whitening_filters))\n",
    "visual_system.make_whitening_filters_figure(whitening_filters)"
   ]
  },
  {
   "cell_type": "markdown",
   "id": "b74cf40e",
   "metadata": {},
   "source": [
    "**Question 2** Compare the whitening filters of your system with the receptive fields of monkey ganglion cells."
   ]
  },
  {
   "cell_type": "markdown",
   "id": "29ce81be",
   "metadata": {},
   "source": [
    "A2: Write your answer here"
   ]
  },
  {
   "cell_type": "markdown",
   "id": "b55529f5",
   "metadata": {},
   "source": [
    "**Question 3** In visual_system write a function that downloads a sample of images from your dataset."
   ]
  },
  {
   "cell_type": "markdown",
   "id": "6d21c409",
   "metadata": {},
   "source": [
    "**Question 4** In visual_system write a function that makes the data pre-processing for ICA "
   ]
  },
  {
   "cell_type": "markdown",
   "id": "2ff9df21",
   "metadata": {},
   "source": [
    "**Question 5** In visual_system write a function that estimates the independent components of your visual system. (Hint1: Tutorial on blind source separation using PCA and ICA in sckit: http://scikit-learn.org/stable/auto_examples/decomposition/plot_ica_blind_source_separation.html\n",
    "Hint 2: To avoid that you estimate new whitening filters you can use the option of FastICA to whiten the data in the fly.\n",
    "Hint 3: To use the algorithm presented in the class you should set the option algorithm='parallel' in FastICA.)"
   ]
  },
  {
   "cell_type": "code",
   "execution_count": null,
   "id": "95bd18ff",
   "metadata": {},
   "outputs": [],
   "source": [
    "X = visual_system.get_ICA_input_data(dataset_file_name, sample_size, number_of_samples)"
   ]
  },
  {
   "cell_type": "code",
   "execution_count": null,
   "id": "3cf088bf",
   "metadata": {},
   "outputs": [],
   "source": [
    "X = visual_system.pre_process(X);"
   ]
  },
  {
   "cell_type": "code",
   "execution_count": null,
   "id": "eb176e2f",
   "metadata": {},
   "outputs": [],
   "source": [
    "W = visual_system.get_IC(X)"
   ]
  },
  {
   "cell_type": "code",
   "execution_count": null,
   "id": "86fb8328",
   "metadata": {},
   "outputs": [],
   "source": [
    "io_image_data.saveH5(independent_components_results_file_name,'IC',W)\n",
    "visual_system.make_idependent_components_figure(W,sample_size)"
   ]
  },
  {
   "cell_type": "markdown",
   "id": "4839c175",
   "metadata": {},
   "source": [
    "**Question 6** Compare the independent components of your system with the receptive fields of monkey V1"
   ]
  },
  {
   "cell_type": "markdown",
   "id": "77fc5e71",
   "metadata": {},
   "source": [
    "A6 : write your answer here"
   ]
  },
  {
   "cell_type": "markdown",
   "id": "a9523c48",
   "metadata": {},
   "source": [
    "**Question 7** In visual system write a function that, given observations and its independent components estimates the independent sources of the observations."
   ]
  },
  {
   "cell_type": "markdown",
   "id": "8d069772",
   "metadata": {},
   "source": [
    "**Question 8** Compare the sources kurtosis with the kurtosis of standard Gaussian. For that you may write as many functions in visual_system.py as necessary."
   ]
  },
  {
   "cell_type": "markdown",
   "id": "3ec002aa",
   "metadata": {},
   "source": [
    "A8. Write your answer here."
   ]
  }
 ],
 "metadata": {
  "kernelspec": {
   "display_name": "Python 3",
   "language": "python",
   "name": "python3"
  },
  "language_info": {
   "codemirror_mode": {
    "name": "ipython",
    "version": 3
   },
   "file_extension": ".py",
   "mimetype": "text/x-python",
   "name": "python",
   "nbconvert_exporter": "python",
   "pygments_lexer": "ipython3",
   "version": "3.6.9"
  }
 },
 "nbformat": 4,
 "nbformat_minor": 5
}
